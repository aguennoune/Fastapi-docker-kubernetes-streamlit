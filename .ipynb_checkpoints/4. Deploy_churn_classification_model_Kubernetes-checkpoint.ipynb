{
 "cells": [
  {
   "cell_type": "markdown",
   "metadata": {},
   "source": [
    "# Deploy BentoService to Kubernetes"
   ]
  },
  {
   "cell_type": "markdown",
   "metadata": {},
   "source": [
    "## Create a docker registry secret\n",
    "\n",
    "This will allow kubernetes to pull images from docker hub (Public repository)"
   ]
  },
  {
   "cell_type": "code",
   "execution_count": 107,
   "metadata": {},
   "outputs": [
    {
     "name": "stdout",
     "output_type": "stream",
     "text": [
      "secret/registry-credentials created\n"
     ]
    }
   ],
   "source": [
    "DOCKER_REGISTRY_SERVER='docker.io'\n",
    "DOCKER_USER='xxxxxxxxx'\n",
    "DOCKER_EMAIL='xxxxxxxxxxxxxxxxxxxxxxx'\n",
    "DOCKER_PASSWORD='xxxxxxxxxxxxx'\n",
    "\n",
    "!kubectl create secret docker-registry registry-credentials \\\n",
    "  --docker-server=$DOCKER_REGISTRY_SERVER \\\n",
    "  --docker-username=$DOCKER_USER \\\n",
    "  --docker-password=$DOCKER_PASSWORD \\\n",
    "  --docker-email=$DOCKER_EMAIL"
   ]
  },
  {
   "cell_type": "markdown",
   "metadata": {},
   "source": [
    "## Create deployments and pods\n",
    "\n",
    "A Kubernetes deployment is a resource object in Kubernetes that provides declarative updates to applications. A deployment allows you to describe an application’s life cycle, such as which images to use for the app, the number of pods there should be, and the way in which they should be updated. \n",
    "\n",
    "A Kubernetes object is a way to tell the Kubernetes system how you want your cluster’s workload to look. After an object has been created, the cluster works to ensure that the object exists, maintaining the desired state of your Kubernetes cluster. \n",
    "\n",
    "A deployment ensures the desired number of pods are running and available at all times.\n",
    "\n",
    "See more details @ https://www.redhat.com/en/topics/containers/what-is-kubernetes-deployment"
   ]
  },
  {
   "cell_type": "code",
   "execution_count": 18,
   "metadata": {},
   "outputs": [
    {
     "name": "stdout",
     "output_type": "stream",
     "text": [
      "deployment.apps/churn-classifier-ml created\n"
     ]
    }
   ],
   "source": [
    "!kubectl create -f Ticket_deployment.yaml"
   ]
  },
  {
   "cell_type": "code",
   "execution_count": 43,
   "metadata": {},
   "outputs": [
    {
     "name": "stdout",
     "output_type": "stream",
     "text": [
      "NAME                                   READY   STATUS    RESTARTS   AGE\n",
      "churn-classifier-ml-84dd4f4cc5-ftsk2   1/1     Running   0          5m51s\n"
     ]
    }
   ],
   "source": [
    "!kubectl get pods"
   ]
  },
  {
   "cell_type": "markdown",
   "metadata": {},
   "source": [
    "## Create Service for accessing ML Service\n",
    "A Kubernetes service is a logical abstraction for a deployed group of pods in a cluster. Since pods are ephemeral, a service enables a group of pods, which provide specific functions (REST prediction services, image processing, etc.) to be assigned a name and unique IP address.\n",
    "\n",
    "For now, Service type has been defined as NodePort, so that you can access ML service with the help of node IP and nodeport (i.e defined in the kubernetes_API_service.yaml)\n",
    "\n",
    "For real ML Service, service type must be defined as LoadBalancer so that request could be routed to any pods running in any of the available nodes"
   ]
  },
  {
   "cell_type": "code",
   "execution_count": 24,
   "metadata": {},
   "outputs": [
    {
     "name": "stdout",
     "output_type": "stream",
     "text": [
      "service/churn-classifier-svc created\n"
     ]
    }
   ],
   "source": [
    "!kubectl create -f Ticket_service.yaml"
   ]
  },
  {
   "cell_type": "code",
   "execution_count": 27,
   "metadata": {},
   "outputs": [
    {
     "name": "stdout",
     "output_type": "stream",
     "text": [
      "NAME                   TYPE        CLUSTER-IP      EXTERNAL-IP   PORT(S)          AGE\n",
      "churn-classifier-svc   NodePort    10.96.193.216   <none>        5000:30000/TCP   9s\n",
      "kubernetes             ClusterIP   10.96.0.1       <none>        443/TCP          5h27m\n"
     ]
    }
   ],
   "source": [
    "!kubectl get svc"
   ]
  },
  {
   "cell_type": "markdown",
   "metadata": {},
   "source": [
    "## Send a request"
   ]
  },
  {
   "cell_type": "code",
   "execution_count": 45,
   "metadata": {},
   "outputs": [
    {
     "name": "stdout",
     "output_type": "stream",
     "text": [
      "HTTP/1.1 200 OK\n",
      "\u001b[1mServer\u001b[0m: gunicorn/20.0.4\n",
      "\u001b[1mDate\u001b[0m: Wed, 23 Dec 2020 15:34:39 GMT\n",
      "\u001b[1mConnection\u001b[0m: close\n",
      "\u001b[1mContent-Type\u001b[0m: application/json\n",
      "\u001b[1mContent-Length\u001b[0m: 6\n",
      "\u001b[1mrequest_id\u001b[0m: 2dc44a37-6dd0-44c3-8f3b-96d70a066ae1\n",
      "\n",
      "[\"No\"]"
     ]
    }
   ],
   "source": [
    "!curl -i \\\n",
    "--header \"Content-Type: application/json\" \\\n",
    "--request POST \\\n",
    "--data '[{\"SeniorCitizen\":0,\"tenure\":31,\"MonthlyCharges\":79.3,\"gender\":\"Male\",\"Partner\":\"Yes\",\"Dependents\":\"No\",\"PhoneService\":\"Yes\",\"MultipleLines\":\"Yes\",\"InternetService\":\"DSL\",\"OnlineSecurity\":\"No\",\"OnlineBackup\":\"No\",\"DeviceProtection\":\"Yes\",\"TechSupport\":\"Yes\",\"StreamingTV\":\"Yes\",\"StreamingMovies\":\"Yes\",\"Contract\":\"One year\",\"PaperlessBilling\":\"Yes\",\"PaymentMethod\":\"Mailed check\"}]' \\\n",
    "172.18.0.2:30000/predict"
   ]
  },
  {
   "cell_type": "markdown",
   "metadata": {},
   "source": [
    "## Check kubernetes logs to ensure request has been received"
   ]
  },
  {
   "cell_type": "code",
   "execution_count": 47,
   "metadata": {},
   "outputs": [
    {
     "name": "stdout",
     "output_type": "stream",
     "text": [
      "[2020-12-23 15:33:10,225] INFO - Starting BentoML API server in production mode..\n",
      "[2020-12-23 15:33:21,799] INFO - get_gunicorn_num_of_workers: 2, calculated by cpu count\n",
      "[2020-12-23 15:33:22 +0000] [1] [INFO] Starting gunicorn 20.0.4\n",
      "[2020-12-23 15:33:22 +0000] [1] [INFO] Listening at: http://0.0.0.0:5000 (1)\n",
      "[2020-12-23 15:33:22 +0000] [1] [INFO] Using worker: sync\n",
      "[2020-12-23 15:33:22 +0000] [11] [INFO] Booting worker with pid: 11\n",
      "[2020-12-23 15:33:22 +0000] [12] [INFO] Booting worker with pid: 12\n",
      "[2020-12-23 15:33:34,445] WARNING - bentoml.handlers.* will be deprecated after BentoML 1.0, use bentoml.adapters.* instead\n",
      "[2020-12-23 15:33:34,598] WARNING - bentoml.handlers.* will be deprecated after BentoML 1.0, use bentoml.adapters.* instead\n",
      "[2020-12-23 15:33:38,414] WARNING - pip package requirement pandas already exist\n",
      "[2020-12-23 15:33:38,419] WARNING - pip package requirement pandas already exist\n",
      "[2020-12-23 15:34:39,668] INFO - {'service_name': 'SKChurnPrediction', 'service_version': '20201223074637_EA2F2D', 'api': 'predict', 'task': {'data': '[{\"SeniorCitizen\":0,\"tenure\":31,\"MonthlyCharges\":79.3,\"gender\":\"Male\",\"Partner\":\"Yes\",\"Dependents\":\"No\",\"PhoneService\":\"Yes\",\"MultipleLines\":\"Yes\",\"InternetService\":\"DSL\",\"OnlineSecurity\":\"No\",\"OnlineBackup\":\"No\",\"DeviceProtection\":\"Yes\",\"TechSupport\":\"Yes\",\"StreamingTV\":\"Yes\",\"StreamingMovies\":\"Yes\",\"Contract\":\"One year\",\"PaperlessBilling\":\"Yes\",\"PaymentMethod\":\"Mailed check\"}]', 'task_id': '5f0ee3a5-2544-420e-920f-69f93577b981', 'batch': 1, 'http_headers': (('Host', '172.18.0.2:30000'), ('User-Agent', 'curl/7.68.0'), ('Accept', '*/*'), ('Content-Type', 'application/json'), ('Content-Length', '381'))}, 'result': {'data': '[\"No\"]', 'http_status': 200, 'http_headers': (('Content-Type', 'application/json'),)}, 'request_id': '5f0ee3a5-2544-420e-920f-69f93577b981'}\n"
     ]
    }
   ],
   "source": [
    "!kubectl logs churn-classifier-ml-84dd4f4cc5-ftsk2"
   ]
  },
  {
   "cell_type": "code",
   "execution_count": null,
   "metadata": {},
   "outputs": [],
   "source": []
  }
 ],
 "metadata": {
  "kernelspec": {
   "display_name": "kubernetes-cluster-kernel",
   "language": "python",
   "name": "kubernetes"
  },
  "language_info": {
   "codemirror_mode": {
    "name": "ipython",
    "version": 3
   },
   "file_extension": ".py",
   "mimetype": "text/x-python",
   "name": "python",
   "nbconvert_exporter": "python",
   "pygments_lexer": "ipython3",
   "version": "3.8.5"
  }
 },
 "nbformat": 4,
 "nbformat_minor": 4
}
